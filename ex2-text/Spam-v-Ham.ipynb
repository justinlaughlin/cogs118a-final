{
 "cells": [
  {
   "cell_type": "markdown",
   "metadata": {},
   "source": [
    "## COGS118A - Final Project\n",
    "### by Justin Laughlin and Stuart Sonatina\n",
    "\n",
    "#### SMS dataset"
   ]
  },
  {
   "cell_type": "code",
   "execution_count": 1,
   "metadata": {
    "collapsed": true
   },
   "outputs": [],
   "source": [
    "# Import packages\n",
    "from datetime import datetime\n",
    "import numpy as np\n",
    "import matplotlib.pyplot as plt\n",
    "import pandas as pd\n",
    "import seaborn as sns\n",
    "sns.set(style=\"whitegrid\", palette=\"muted\")\n",
    "\n",
    "# Splitting, training, and testing\n",
    "import sklearn.model_selection as ms\n",
    "\n",
    "# Text wrangling\n",
    "import sklearn.feature_extraction.text as txt\n",
    "from sklearn.pipeline import Pipeline\n",
    "from sklearn.linear_model import SGDClassifier\n",
    "import sklearn.naive_bayes as nb\n",
    "\n",
    "# Visualization\n",
    "import sklearn.metrics as skm\n",
    "\n",
    "# magic command to display plots inline\n",
    "%matplotlib inline"
   ]
  },
  {
   "cell_type": "markdown",
   "metadata": {},
   "source": [
    "Tutorial\n",
    "http://scikit-learn.org/stable/tutorial/text_analytics/working_with_text_data.html\n",
    "\n",
    "Dataset\n",
    "https://www.kaggle.com/uciml/sms-spam-collection-dataset"
   ]
  },
  {
   "cell_type": "code",
   "execution_count": 2,
   "metadata": {
    "collapsed": false
   },
   "outputs": [
    {
     "name": "stdout",
     "output_type": "stream",
     "text": [
      "(5572, 2)\n"
     ]
    },
    {
     "data": {
      "text/html": [
       "<div>\n",
       "<table border=\"1\" class=\"dataframe\">\n",
       "  <thead>\n",
       "    <tr style=\"text-align: right;\">\n",
       "      <th></th>\n",
       "      <th>Class</th>\n",
       "      <th>Message</th>\n",
       "    </tr>\n",
       "  </thead>\n",
       "  <tbody>\n",
       "    <tr>\n",
       "      <th>0</th>\n",
       "      <td>0</td>\n",
       "      <td>Go until jurong point, crazy.. Available only ...</td>\n",
       "    </tr>\n",
       "    <tr>\n",
       "      <th>1</th>\n",
       "      <td>0</td>\n",
       "      <td>Ok lar... Joking wif u oni...</td>\n",
       "    </tr>\n",
       "    <tr>\n",
       "      <th>2</th>\n",
       "      <td>1</td>\n",
       "      <td>Free entry in 2 a wkly comp to win FA Cup fina...</td>\n",
       "    </tr>\n",
       "    <tr>\n",
       "      <th>3</th>\n",
       "      <td>0</td>\n",
       "      <td>U dun say so early hor... U c already then say...</td>\n",
       "    </tr>\n",
       "    <tr>\n",
       "      <th>4</th>\n",
       "      <td>0</td>\n",
       "      <td>Nah I don't think he goes to usf, he lives aro...</td>\n",
       "    </tr>\n",
       "    <tr>\n",
       "      <th>5</th>\n",
       "      <td>1</td>\n",
       "      <td>FreeMsg Hey there darling it's been 3 week's n...</td>\n",
       "    </tr>\n",
       "    <tr>\n",
       "      <th>6</th>\n",
       "      <td>0</td>\n",
       "      <td>Even my brother is not like to speak with me. ...</td>\n",
       "    </tr>\n",
       "    <tr>\n",
       "      <th>7</th>\n",
       "      <td>0</td>\n",
       "      <td>As per your request 'Melle Melle (Oru Minnamin...</td>\n",
       "    </tr>\n",
       "    <tr>\n",
       "      <th>8</th>\n",
       "      <td>1</td>\n",
       "      <td>WINNER!! As a valued network customer you have...</td>\n",
       "    </tr>\n",
       "    <tr>\n",
       "      <th>9</th>\n",
       "      <td>1</td>\n",
       "      <td>Had your mobile 11 months or more? U R entitle...</td>\n",
       "    </tr>\n",
       "    <tr>\n",
       "      <th>10</th>\n",
       "      <td>0</td>\n",
       "      <td>I'm gonna be home soon and i don't want to tal...</td>\n",
       "    </tr>\n",
       "    <tr>\n",
       "      <th>11</th>\n",
       "      <td>1</td>\n",
       "      <td>SIX chances to win CASH! From 100 to 20,000 po...</td>\n",
       "    </tr>\n",
       "    <tr>\n",
       "      <th>12</th>\n",
       "      <td>1</td>\n",
       "      <td>URGENT! You have won a 1 week FREE membership ...</td>\n",
       "    </tr>\n",
       "    <tr>\n",
       "      <th>13</th>\n",
       "      <td>0</td>\n",
       "      <td>I've been searching for the right words to tha...</td>\n",
       "    </tr>\n",
       "    <tr>\n",
       "      <th>14</th>\n",
       "      <td>0</td>\n",
       "      <td>I HAVE A DATE ON SUNDAY WITH WILL!!</td>\n",
       "    </tr>\n",
       "  </tbody>\n",
       "</table>\n",
       "</div>"
      ],
      "text/plain": [
       "    Class                                            Message\n",
       "0       0  Go until jurong point, crazy.. Available only ...\n",
       "1       0                      Ok lar... Joking wif u oni...\n",
       "2       1  Free entry in 2 a wkly comp to win FA Cup fina...\n",
       "3       0  U dun say so early hor... U c already then say...\n",
       "4       0  Nah I don't think he goes to usf, he lives aro...\n",
       "5       1  FreeMsg Hey there darling it's been 3 week's n...\n",
       "6       0  Even my brother is not like to speak with me. ...\n",
       "7       0  As per your request 'Melle Melle (Oru Minnamin...\n",
       "8       1  WINNER!! As a valued network customer you have...\n",
       "9       1  Had your mobile 11 months or more? U R entitle...\n",
       "10      0  I'm gonna be home soon and i don't want to tal...\n",
       "11      1  SIX chances to win CASH! From 100 to 20,000 po...\n",
       "12      1  URGENT! You have won a 1 week FREE membership ...\n",
       "13      0  I've been searching for the right words to tha...\n",
       "14      0                I HAVE A DATE ON SUNDAY WITH WILL!!"
      ]
     },
     "execution_count": 2,
     "metadata": {},
     "output_type": "execute_result"
    }
   ],
   "source": [
    "# Use pandas to import data into dataframe\n",
    "df = pd.read_csv('spam_v_ham.csv', encoding='latin1')\n",
    "df.drop(['Unnamed: 2', 'Unnamed: 3', 'Unnamed: 4'], axis=1, inplace=True)\n",
    "df.columns = ['Class', 'Message']\n",
    "\n",
    "# replace ham with 0 and spam with 1\n",
    "df['Class'].replace(['ham','spam'],[0,1],inplace=True)\n",
    "print(df.shape)\n",
    "df.head(15)\n"
   ]
  },
  {
   "cell_type": "code",
   "execution_count": 3,
   "metadata": {
    "collapsed": false
   },
   "outputs": [
    {
     "data": {
      "text/plain": [
       "4457"
      ]
     },
     "execution_count": 3,
     "metadata": {},
     "output_type": "execute_result"
    }
   ],
   "source": [
    "# create lists for features, X, and classes, Y\n",
    "X = df['Message'].tolist()\n",
    "X = [str(i) for i in X]\n",
    "#Y = df['Class'].tolist()\n",
    "Y = df['Class'].as_matrix()\n",
    "Y = [int(i) for i in Y]\n",
    "\n",
    "[Xtrain, Xtest, Ytrain, Ytest] = ms.train_test_split(X, Y, train_size=0.8)\n",
    "len(Xtrain)"
   ]
  },
  {
   "cell_type": "markdown",
   "metadata": {},
   "source": [
    "## Workflow"
   ]
  },
  {
   "cell_type": "markdown",
   "metadata": {},
   "source": [
    "## Train classifiers\n",
    "[SGD Classifier](http://scikit-learn.org/stable/modules/generated/sklearn.linear_model.SGDClassifier.html#sklearn.linear_model.SGDClassifier)\n",
    "\n",
    "[Multinomial Naive Bayes Classifier](http://scikit-learn.org/stable/modules/generated/sklearn.naive_bayes.MultinomialNB.html#sklearn.naive_bayes.MultinomialNB)"
   ]
  },
  {
   "cell_type": "code",
   "execution_count": 4,
   "metadata": {
    "collapsed": true
   },
   "outputs": [],
   "source": [
    "# In order to make the vectorizer => transformer => classifier easier to work with,\n",
    "# scikit-learn provides a Pipeline class that behaves like a compound classifier:\n",
    "\n",
    "# Multinomial Naive Bayes\n",
    "MNB_clf = Pipeline([('vect', txt.CountVectorizer()),\n",
    "                    ('tfidf', txt.TfidfTransformer()),\n",
    "                    ('clf', nb.MultinomialNB()),\n",
    "                    ])\n",
    "# Stochastic Gradient Descent (SGD) (Support Vector Machine)\n",
    "SGD_clf = Pipeline([('vect', txt.CountVectorizer()),\n",
    "                    ('tfidf', txt.TfidfTransformer()),\n",
    "                    ('clf', SGDClassifier(loss='hinge', penalty='l2',\n",
    "                        n_iter=5, random_state=42)),\n",
    "                    ])\n"
   ]
  },
  {
   "cell_type": "code",
   "execution_count": 5,
   "metadata": {
    "collapsed": true
   },
   "outputs": [],
   "source": [
    "# Use grid search to find best parameters for SGD classifier\n",
    "SGD_params = {'vect__ngram_range': [(1, 1), (1, 2)],\n",
    "              'vect__lowercase': (True, False),\n",
    "              'tfidf__use_idf': (True, False),\n",
    "              'clf__alpha': (1e-2, 1e-3),\n",
    "}\n",
    "GS_clf = ms.GridSearchCV(SGD_clf, SGD_params, n_jobs=-1)"
   ]
  },
  {
   "cell_type": "code",
   "execution_count": 6,
   "metadata": {
    "collapsed": true
   },
   "outputs": [],
   "source": [
    "# Fit models to data\n",
    "SGD_GS_clf = GS_clf.fit(Xtrain, Ytrain)\n",
    "MNB_clf = MNB_clf.fit(Xtrain, Ytrain)"
   ]
  },
  {
   "cell_type": "markdown",
   "metadata": {},
   "source": [
    "## Results"
   ]
  },
  {
   "cell_type": "code",
   "execution_count": 7,
   "metadata": {
    "collapsed": false
   },
   "outputs": [
    {
     "name": "stdout",
     "output_type": "stream",
     "text": [
      "\n",
      "Best Parameters for SGD:\n",
      "\n",
      "               clf__alpha:\t0.001\n",
      "           tfidf__use_idf:\tFalse\n",
      "          vect__lowercase:\tTrue\n",
      "        vect__ngram_range:\t(1, 2)\n"
     ]
    }
   ],
   "source": [
    "print(\"\\nBest Parameters for SGD:\\n\")\n",
    "for param_name in sorted(SGD_params.keys()):\n",
    "    print(\"%25s:\\t%r\" % (param_name, GS_clf.best_params_[param_name]))"
   ]
  },
  {
   "cell_type": "code",
   "execution_count": 8,
   "metadata": {
    "collapsed": false
   },
   "outputs": [
    {
     "name": "stdout",
     "output_type": "stream",
     "text": [
      "\n",
      " SGD Results:\n",
      "             precision    recall  f1-score   support\n",
      "\n",
      "       Spam       0.98      1.00      0.99       968\n",
      "        Ham       0.98      0.84      0.91       147\n",
      "\n",
      "avg / total       0.98      0.98      0.98      1115\n",
      "\n",
      "\n",
      " MNB Results:\n",
      "             precision    recall  f1-score   support\n",
      "\n",
      "       Spam       0.96      1.00      0.98       968\n",
      "        Ham       1.00      0.70      0.82       147\n",
      "\n",
      "avg / total       0.96      0.96      0.96      1115\n",
      "\n"
     ]
    },
    {
     "data": {
      "text/plain": [
       "<matplotlib.legend.Legend at 0x7fbd9f598828>"
      ]
     },
     "execution_count": 8,
     "metadata": {},
     "output_type": "execute_result"
    },
    {
     "data": {
      "image/png": "[encoded data removed]",
      "text/plain": [
       "<matplotlib.figure.Figure at 0x7fbd9f598a20>"
      ]
     },
     "metadata": {},
     "output_type": "display_data"
    }
   ],
   "source": [
    "# predicted values\n",
    "SGDYscore = SGD_GS_clf.predict(Xtest)\n",
    "MNBYscore = MNB_clf.predict(Xtest)\n",
    "Yscores = [SGDYscore, MNBYscore]\n",
    "clfs = ['SGD', 'MNB']\n",
    "plt.figure(figsize=[6,4])\n",
    "i=0\n",
    "for Yscore in Yscores:\n",
    "    print('\\n',clfs[i], \"Results:\")\n",
    "    print(skm.classification_report(Ytest, Yscore, target_names=['Spam', 'Ham']))\n",
    "\n",
    "    # false and true positive rates\n",
    "    fpr, tpr, thr = skm.roc_curve(np.array(Ytest), Yscore)\n",
    "\n",
    "    # area under ROC curve\n",
    "    roc_auc = skm.auc(fpr, tpr)\n",
    "\n",
    "    # plot curve\n",
    "    label = '{:s} (area = {:0.2f})'.format(clfs[i], roc_auc)\n",
    "    plt.plot(fpr, tpr, label=label)\n",
    "    \n",
    "    i+=1\n",
    "plt.plot([0, 1], [0, 1], color='black', linestyle='--')\n",
    "    \n",
    "plt.grid(False)\n",
    "plt.xlabel('False Positive Rate')\n",
    "plt.ylabel('True Positive Rate')\n",
    "plt.title('Receiver Operating Characteristic Curve')\n",
    "plt.legend(loc=\"lower right\")\n"
   ]
  }
 ],
 "metadata": {
  "kernelspec": {
   "display_name": "Python 3",
   "language": "python",
   "name": "python3"
  },
  "language_info": {
   "codemirror_mode": {
    "name": "ipython",
    "version": 3
   },
   "file_extension": ".py",
   "mimetype": "text/x-python",
   "name": "python",
   "nbconvert_exporter": "python",
   "pygments_lexer": "ipython3",
   "version": "3.6.0"
  }
 },
 "nbformat": 4,
 "nbformat_minor": 2
}
