{
 "cells": [
  {
   "cell_type": "code",
   "execution_count": 1,
   "metadata": {
    "collapsed": true
   },
   "outputs": [],
   "source": [
    "# import packages\n",
    "from datetime import datetime\n",
    "import numpy as np\n",
    "import matplotlib.pyplot as plt\n",
    "import scipy.io as sio\n",
    "import pandas as pd\n",
    "import seaborn as sns\n",
    "sns.set(style=\"whitegrid\", palette=\"muted\")\n",
    "\n",
    "# For reading files and directories\n",
    "import os\n",
    "\n",
    "# Reading images into numpy arrays\n",
    "from PIL import Image\n",
    "\n",
    "# splitting, training, and testing\n",
    "import sklearn.model_selection as ms\n",
    "\n",
    "# Visualization\n",
    "import sklearn.metrics as skm\n",
    "\n",
    "# Eigenfaces and SVM\n",
    "from sklearn.decomposition import PCA\n",
    "from sklearn.svm import SVC\n",
    "\n",
    "%matplotlib inline"
   ]
  },
  {
   "cell_type": "markdown",
   "metadata": {},
   "source": [
    "Import all images and convert to 3D numpy arrays. Then parse information for each image into dicts."
   ]
  },
  {
   "cell_type": "code",
   "execution_count": 2,
   "metadata": {
    "collapsed": false
   },
   "outputs": [
    {
     "name": "stdout",
     "output_type": "stream",
     "text": [
      "(1364, 24576)\n"
     ]
    }
   ],
   "source": [
    "# create list to hold numpy arrays for each image\n",
    "images = []\n",
    "dirname = \"./colorferet/front_thumbnails/\"\n",
    "for filename in sorted(os.listdir(dirname)):\n",
    "    #print(filename)\n",
    "    im = Image.open(os.path.join(dirname, filename)).convert(\"L\") # \"L\" means b/w. comment out for color\n",
    "    images.append(np.asarray(im, dtype=np.uint8))\n",
    "\n",
    "X = np.array(images)\n",
    "n_samples = X.shape[0]\n",
    "height = X.shape[1]\n",
    "width = X.shape[2]\n",
    "X = X.reshape([1364,-1])\n",
    "print(X.shape)\n"
   ]
  },
  {
   "cell_type": "code",
   "execution_count": 3,
   "metadata": {
    "collapsed": true
   },
   "outputs": [],
   "source": [
    "img = Image.fromarray(images[0], 'L')\n",
    "img.show()"
   ]
  },
  {
   "cell_type": "code",
   "execution_count": 4,
   "metadata": {
    "collapsed": false
   },
   "outputs": [
    {
     "data": {
      "text/plain": [
       "{'beard': 'No',\n",
       " 'capture_date': '08/31/1993',\n",
       " 'capture_time': '00:00:00',\n",
       " 'collection': 'cfrC00001',\n",
       " 'compression': 'bzip2',\n",
       " 'disc': '1',\n",
       " 'environment': 'cfrE00001',\n",
       " 'expression': 'fa',\n",
       " 'format': 'ppm',\n",
       " 'glasses': 'Yes',\n",
       " 'illuminant': 'cfrI00001 cfrI00002 cfrI00003',\n",
       " 'left_eye_coordinates': '326 332',\n",
       " 'mouth_coordinates': '266 468',\n",
       " 'mustache': 'No',\n",
       " 'nose_coordinates': '268 404',\n",
       " 'pitch': '0',\n",
       " 'pose': 'fa',\n",
       " 'recording': 'cfrR00002',\n",
       " 'relative': 'data/images/00001/00001_930831_fa_a.ppm.bz2',\n",
       " 'right_eye_coordinates': '202 334',\n",
       " 'roll': '0',\n",
       " 'sensor': 'cfrN00002',\n",
       " 'stage': 'cfrT00001',\n",
       " 'subject': 'cfrS00001',\n",
       " 'weather': 'inside',\n",
       " 'yaw': '0'}"
      ]
     },
     "execution_count": 4,
     "metadata": {},
     "output_type": "execute_result"
    }
   ],
   "source": [
    "# create list of dictionaries for each image's attributes\n",
    "imData = [{} for _ in range(n_samples)]\n",
    "\n",
    "dirname = \"./colorferet/truths/\"\n",
    "filenames = sorted(os.listdir(dirname))\n",
    "for i in range(n_samples):\n",
    "    filename = filenames[i]\n",
    "    textfile = open(os.path.join(dirname, filename))\n",
    "    for str in textfile.read().split('\\n'):\n",
    "        if len(str) > 0:\n",
    "            key, value = str.split('=')\n",
    "        imData[i][key] = value\n",
    "    textfile.close()\n",
    "\n",
    "imData[0]"
   ]
  },
  {
   "cell_type": "markdown",
   "metadata": {},
   "source": [
    "Let's train a classifier to look for a mustache, glasses, or beard"
   ]
  },
  {
   "cell_type": "code",
   "execution_count": 5,
   "metadata": {
    "collapsed": false
   },
   "outputs": [],
   "source": [
    "y = []\n",
    "for i in range(n_samples):\n",
    "    y.append(imData[i]['mustache'])\n",
    "#    y.append(imData[i]['glasses'])\n",
    "#    y.append(imData[i]['beard'])\n",
    "y = pd.Series(y).replace(['No','Yes'],[0,1]).as_matrix()\n",
    "y[:20]\n",
    "\n",
    "# split into training and testing sets\n",
    "X_train, X_test, y_train, y_test = ms.train_test_split(X,y,train_size=0.8)"
   ]
  },
  {
   "cell_type": "code",
   "execution_count": 11,
   "metadata": {
    "collapsed": false
   },
   "outputs": [
    {
     "name": "stdout",
     "output_type": "stream",
     "text": [
      "Extracting the top 150 eigenfaces from 1091 faces\n",
      "Projecting the input data on the eigenfaces orthonormal basis\n"
     ]
    }
   ],
   "source": [
    "n_components = 150\n",
    "\n",
    "print(\"Extracting the top %d eigenfaces from %d faces\"\n",
    "      % (n_components, X_train.shape[0]))\n",
    "\n",
    "pca = PCA(n_components=n_components, svd_solver='randomized',\n",
    "          whiten=True).fit(X_train)\n",
    "\n",
    "eigenfaces = pca.components_.reshape([n_components, height, width])\n",
    "\n",
    "print(\"Projecting the input data on the eigenfaces orthonormal basis\")\n",
    "X_train_pca = pca.transform(X_train)\n",
    "X_test_pca = pca.transform(X_test)\n"
   ]
  },
  {
   "cell_type": "code",
   "execution_count": 12,
   "metadata": {
    "collapsed": false
   },
   "outputs": [],
   "source": [
    "img = Image.fromarray(eigenfaces[20], 'L')\n",
    "img.show()"
   ]
  },
  {
   "cell_type": "code",
   "execution_count": 16,
   "metadata": {
    "collapsed": false
   },
   "outputs": [
    {
     "name": "stdout",
     "output_type": "stream",
     "text": [
      "Fitting the classifier to the training set\n",
      "Best estimator found by grid search:\n"
     ]
    },
    {
     "data": {
      "text/plain": [
       "SVC(C=10.0, cache_size=200, class_weight='balanced', coef0=0.0,\n",
       "  decision_function_shape=None, degree=3, gamma=0.01, kernel='rbf',\n",
       "  max_iter=-1, probability=False, random_state=None, shrinking=True,\n",
       "  tol=0.001, verbose=False)"
      ]
     },
     "execution_count": 16,
     "metadata": {},
     "output_type": "execute_result"
    }
   ],
   "source": [
    "print(\"Fitting the classifier to the training set\")\n",
    "param_grid = {'C': [1e1, 1e2, 1e3, 1e4],\n",
    "              'gamma': [0.0001, 0.0005, 0.001, 0.005, 0.01, 0.1], }\n",
    "clf = ms.GridSearchCV(SVC(kernel='rbf', class_weight='balanced'), param_grid)\n",
    "clf = clf.fit(X_train_pca, y_train)\n",
    "\n",
    "print(\"Best estimator found by grid search:\")\n",
    "clf.best_estimator_"
   ]
  },
  {
   "cell_type": "code",
   "execution_count": 17,
   "metadata": {
    "collapsed": false
   },
   "outputs": [
    {
     "name": "stdout",
     "output_type": "stream",
     "text": [
      "             precision    recall  f1-score   support\n",
      "\n",
      "         No       0.90      1.00      0.95       246\n",
      "        Yes       1.00      0.04      0.07        27\n",
      "\n",
      "avg / total       0.91      0.90      0.86       273\n",
      "\n"
     ]
    }
   ],
   "source": [
    "y_pred = clf.predict(X_test_pca)\n",
    "print(skm.classification_report(y_test, y_pred, target_names=['No', 'Yes']))"
   ]
  },
  {
   "cell_type": "code",
   "execution_count": 18,
   "metadata": {
    "collapsed": false
   },
   "outputs": [
    {
     "name": "stdout",
     "output_type": "stream",
     "text": [
      "0.904761904762\n",
      "Precision: \t[ 0.0989011  1.         1.       ]\n",
      "Recall: \t[ 1.          0.03703704  0.        ]\n",
      "Thresholds: \t[0 1]\n",
      "F score: 0.07142857142857142\n"
     ]
    }
   ],
   "source": [
    "y_score = clf.score(X_test_pca, y_test)\n",
    "print(y_score)\n",
    "\n",
    "precision, recall, thresholds = skm.precision_recall_curve(y_test, y_pred, pos_label=1)\n",
    "\n",
    "print(\"Precision: \\t{}\".format(precision))\n",
    "print(\"Recall: \\t{}\".format(recall))\n",
    "print(\"Thresholds: \\t{}\".format(thresholds))\n",
    "\n",
    "F = 2*(precision[1]*recall[1])/(precision[1]+recall[1])\n",
    "\n",
    "print(\"F score: {}\".format(F))"
   ]
  },
  {
   "cell_type": "code",
   "execution_count": null,
   "metadata": {
    "collapsed": true
   },
   "outputs": [],
   "source": []
  }
 ],
 "metadata": {
  "kernelspec": {
   "display_name": "Python 3",
   "language": "python",
   "name": "python3"
  },
  "language_info": {
   "codemirror_mode": {
    "name": "ipython",
    "version": 3
   },
   "file_extension": ".py",
   "mimetype": "text/x-python",
   "name": "python",
   "nbconvert_exporter": "python",
   "pygments_lexer": "ipython3",
   "version": "3.6.0"
  }
 },
 "nbformat": 4,
 "nbformat_minor": 2
}
