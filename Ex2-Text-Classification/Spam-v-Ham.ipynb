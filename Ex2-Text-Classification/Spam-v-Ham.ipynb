{
 "cells": [
  {
   "cell_type": "markdown",
   "metadata": {},
   "source": [
    "## COGS118A - Final Project\n",
    "### by Justin Laughlin and Stuart Sonatina\n",
    "\n",
    "#### SMS dataset"
   ]
  },
  {
   "cell_type": "code",
   "execution_count": 1,
   "metadata": {
    "collapsed": true
   },
   "outputs": [],
   "source": [
    "# Import packages\n",
    "from datetime import datetime\n",
    "import numpy as np\n",
    "import matplotlib.pyplot as plt\n",
    "import scipy.io as sio\n",
    "import pandas as pd\n",
    "import seaborn as sns\n",
    "sns.set(style=\"whitegrid\", palette=\"muted\")\n",
    "\n",
    "# Splitting, training, and testing\n",
    "import sklearn.model_selection as ms\n",
    "\n",
    "# Text wrangling\n",
    "import sklearn.feature_extraction.text as txt\n",
    "from sklearn.pipeline import Pipeline\n",
    "from sklearn.linear_model import SGDClassifier\n",
    "import sklearn.naive_bayes as nb\n",
    "\n",
    "# Visualization\n",
    "import sklearn.metrics as skm\n",
    "\n",
    "# magic command to display plots inline\n",
    "%matplotlib inline"
   ]
  },
  {
   "cell_type": "markdown",
   "metadata": {},
   "source": [
    "Tutorial\n",
    "http://scikit-learn.org/stable/tutorial/text_analytics/working_with_text_data.html\n",
    "\n",
    "Dataset\n",
    "https://www.kaggle.com/uciml/sms-spam-collection-dataset"
   ]
  },
  {
   "cell_type": "code",
   "execution_count": 2,
   "metadata": {
    "collapsed": false
   },
   "outputs": [
    {
     "data": {
      "text/html": [
       "<div>\n",
       "<table border=\"1\" class=\"dataframe\">\n",
       "  <thead>\n",
       "    <tr style=\"text-align: right;\">\n",
       "      <th></th>\n",
       "      <th>Class</th>\n",
       "      <th>Message</th>\n",
       "    </tr>\n",
       "  </thead>\n",
       "  <tbody>\n",
       "    <tr>\n",
       "      <th>0</th>\n",
       "      <td>0</td>\n",
       "      <td>Go until jurong point, crazy.. Available only ...</td>\n",
       "    </tr>\n",
       "    <tr>\n",
       "      <th>1</th>\n",
       "      <td>0</td>\n",
       "      <td>Ok lar... Joking wif u oni...</td>\n",
       "    </tr>\n",
       "    <tr>\n",
       "      <th>2</th>\n",
       "      <td>1</td>\n",
       "      <td>Free entry in 2 a wkly comp to win FA Cup fina...</td>\n",
       "    </tr>\n",
       "    <tr>\n",
       "      <th>3</th>\n",
       "      <td>0</td>\n",
       "      <td>U dun say so early hor... U c already then say...</td>\n",
       "    </tr>\n",
       "    <tr>\n",
       "      <th>4</th>\n",
       "      <td>0</td>\n",
       "      <td>Nah I don't think he goes to usf, he lives aro...</td>\n",
       "    </tr>\n",
       "    <tr>\n",
       "      <th>5</th>\n",
       "      <td>1</td>\n",
       "      <td>FreeMsg Hey there darling it's been 3 week's n...</td>\n",
       "    </tr>\n",
       "    <tr>\n",
       "      <th>6</th>\n",
       "      <td>0</td>\n",
       "      <td>Even my brother is not like to speak with me. ...</td>\n",
       "    </tr>\n",
       "    <tr>\n",
       "      <th>7</th>\n",
       "      <td>0</td>\n",
       "      <td>As per your request 'Melle Melle (Oru Minnamin...</td>\n",
       "    </tr>\n",
       "    <tr>\n",
       "      <th>8</th>\n",
       "      <td>1</td>\n",
       "      <td>WINNER!! As a valued network customer you have...</td>\n",
       "    </tr>\n",
       "    <tr>\n",
       "      <th>9</th>\n",
       "      <td>1</td>\n",
       "      <td>Had your mobile 11 months or more? U R entitle...</td>\n",
       "    </tr>\n",
       "    <tr>\n",
       "      <th>10</th>\n",
       "      <td>0</td>\n",
       "      <td>I'm gonna be home soon and i don't want to tal...</td>\n",
       "    </tr>\n",
       "    <tr>\n",
       "      <th>11</th>\n",
       "      <td>1</td>\n",
       "      <td>SIX chances to win CASH! From 100 to 20,000 po...</td>\n",
       "    </tr>\n",
       "    <tr>\n",
       "      <th>12</th>\n",
       "      <td>1</td>\n",
       "      <td>URGENT! You have won a 1 week FREE membership ...</td>\n",
       "    </tr>\n",
       "    <tr>\n",
       "      <th>13</th>\n",
       "      <td>0</td>\n",
       "      <td>I've been searching for the right words to tha...</td>\n",
       "    </tr>\n",
       "    <tr>\n",
       "      <th>14</th>\n",
       "      <td>0</td>\n",
       "      <td>I HAVE A DATE ON SUNDAY WITH WILL!!</td>\n",
       "    </tr>\n",
       "    <tr>\n",
       "      <th>15</th>\n",
       "      <td>1</td>\n",
       "      <td>XXXMobileMovieClub: To use your credit, click ...</td>\n",
       "    </tr>\n",
       "    <tr>\n",
       "      <th>16</th>\n",
       "      <td>0</td>\n",
       "      <td>Oh k...i'm watching here:)</td>\n",
       "    </tr>\n",
       "    <tr>\n",
       "      <th>17</th>\n",
       "      <td>0</td>\n",
       "      <td>Eh u remember how 2 spell his name... Yes i di...</td>\n",
       "    </tr>\n",
       "    <tr>\n",
       "      <th>18</th>\n",
       "      <td>0</td>\n",
       "      <td>Fine if thatåÕs the way u feel. ThatåÕs the wa...</td>\n",
       "    </tr>\n",
       "    <tr>\n",
       "      <th>19</th>\n",
       "      <td>1</td>\n",
       "      <td>England v Macedonia - dont miss the goals/team...</td>\n",
       "    </tr>\n",
       "    <tr>\n",
       "      <th>20</th>\n",
       "      <td>0</td>\n",
       "      <td>Is that seriously how you spell his name?</td>\n",
       "    </tr>\n",
       "    <tr>\n",
       "      <th>21</th>\n",
       "      <td>0</td>\n",
       "      <td>IÛ÷m going to try for 2 months ha ha only joking</td>\n",
       "    </tr>\n",
       "    <tr>\n",
       "      <th>22</th>\n",
       "      <td>0</td>\n",
       "      <td>So Ì_ pay first lar... Then when is da stock c...</td>\n",
       "    </tr>\n",
       "    <tr>\n",
       "      <th>23</th>\n",
       "      <td>0</td>\n",
       "      <td>Aft i finish my lunch then i go str down lor. ...</td>\n",
       "    </tr>\n",
       "    <tr>\n",
       "      <th>24</th>\n",
       "      <td>0</td>\n",
       "      <td>Ffffffffff. Alright no way I can meet up with ...</td>\n",
       "    </tr>\n",
       "    <tr>\n",
       "      <th>25</th>\n",
       "      <td>0</td>\n",
       "      <td>Just forced myself to eat a slice. I'm really ...</td>\n",
       "    </tr>\n",
       "    <tr>\n",
       "      <th>26</th>\n",
       "      <td>0</td>\n",
       "      <td>Lol your always so convincing.</td>\n",
       "    </tr>\n",
       "    <tr>\n",
       "      <th>27</th>\n",
       "      <td>0</td>\n",
       "      <td>Did you catch the bus ? Are you frying an egg ...</td>\n",
       "    </tr>\n",
       "    <tr>\n",
       "      <th>28</th>\n",
       "      <td>0</td>\n",
       "      <td>I'm back &amp;amp; we're packing the car now, I'll...</td>\n",
       "    </tr>\n",
       "    <tr>\n",
       "      <th>29</th>\n",
       "      <td>0</td>\n",
       "      <td>Ahhh. Work. I vaguely remember that! What does...</td>\n",
       "    </tr>\n",
       "    <tr>\n",
       "      <th>...</th>\n",
       "      <td>...</td>\n",
       "      <td>...</td>\n",
       "    </tr>\n",
       "    <tr>\n",
       "      <th>70</th>\n",
       "      <td>0</td>\n",
       "      <td>Wah lucky man... Then can save money... Hee...</td>\n",
       "    </tr>\n",
       "    <tr>\n",
       "      <th>71</th>\n",
       "      <td>0</td>\n",
       "      <td>Finished class where are you.</td>\n",
       "    </tr>\n",
       "    <tr>\n",
       "      <th>72</th>\n",
       "      <td>0</td>\n",
       "      <td>HI BABE IM AT HOME NOW WANNA DO SOMETHING? XX</td>\n",
       "    </tr>\n",
       "    <tr>\n",
       "      <th>73</th>\n",
       "      <td>0</td>\n",
       "      <td>K..k:)where are you?how did you performed?</td>\n",
       "    </tr>\n",
       "    <tr>\n",
       "      <th>74</th>\n",
       "      <td>0</td>\n",
       "      <td>U can call me now...</td>\n",
       "    </tr>\n",
       "    <tr>\n",
       "      <th>75</th>\n",
       "      <td>0</td>\n",
       "      <td>I am waiting machan. Call me once you free.</td>\n",
       "    </tr>\n",
       "    <tr>\n",
       "      <th>76</th>\n",
       "      <td>0</td>\n",
       "      <td>Thats cool. i am a gentleman and will treat yo...</td>\n",
       "    </tr>\n",
       "    <tr>\n",
       "      <th>77</th>\n",
       "      <td>0</td>\n",
       "      <td>I like you peoples very much:) but am very shy...</td>\n",
       "    </tr>\n",
       "    <tr>\n",
       "      <th>78</th>\n",
       "      <td>0</td>\n",
       "      <td>Does not operate after  &amp;lt;#&amp;gt;  or what</td>\n",
       "    </tr>\n",
       "    <tr>\n",
       "      <th>79</th>\n",
       "      <td>0</td>\n",
       "      <td>Its not the same here. Still looking for a job...</td>\n",
       "    </tr>\n",
       "    <tr>\n",
       "      <th>80</th>\n",
       "      <td>0</td>\n",
       "      <td>Sorry, I'll call later</td>\n",
       "    </tr>\n",
       "    <tr>\n",
       "      <th>81</th>\n",
       "      <td>0</td>\n",
       "      <td>K. Did you call me just now ah?</td>\n",
       "    </tr>\n",
       "    <tr>\n",
       "      <th>82</th>\n",
       "      <td>0</td>\n",
       "      <td>Ok i am on the way to home hi hi</td>\n",
       "    </tr>\n",
       "    <tr>\n",
       "      <th>83</th>\n",
       "      <td>0</td>\n",
       "      <td>You will be in the place of that man</td>\n",
       "    </tr>\n",
       "    <tr>\n",
       "      <th>84</th>\n",
       "      <td>0</td>\n",
       "      <td>Yup next stop.</td>\n",
       "    </tr>\n",
       "    <tr>\n",
       "      <th>85</th>\n",
       "      <td>0</td>\n",
       "      <td>I call you later, don't have network. If urgnt...</td>\n",
       "    </tr>\n",
       "    <tr>\n",
       "      <th>86</th>\n",
       "      <td>0</td>\n",
       "      <td>For real when u getting on yo? I only need 2 m...</td>\n",
       "    </tr>\n",
       "    <tr>\n",
       "      <th>87</th>\n",
       "      <td>0</td>\n",
       "      <td>Yes I started to send requests to make it but ...</td>\n",
       "    </tr>\n",
       "    <tr>\n",
       "      <th>88</th>\n",
       "      <td>0</td>\n",
       "      <td>I'm really not up to it still tonight babe</td>\n",
       "    </tr>\n",
       "    <tr>\n",
       "      <th>89</th>\n",
       "      <td>0</td>\n",
       "      <td>Ela kano.,il download, come wen ur free..</td>\n",
       "    </tr>\n",
       "    <tr>\n",
       "      <th>90</th>\n",
       "      <td>0</td>\n",
       "      <td>Yeah do! DonÛ÷t stand to close tho- youÛ÷ll ...</td>\n",
       "    </tr>\n",
       "    <tr>\n",
       "      <th>91</th>\n",
       "      <td>0</td>\n",
       "      <td>Sorry to be a pain. Is it ok if we meet anothe...</td>\n",
       "    </tr>\n",
       "    <tr>\n",
       "      <th>92</th>\n",
       "      <td>0</td>\n",
       "      <td>Smile in Pleasure Smile in Pain Smile when tro...</td>\n",
       "    </tr>\n",
       "    <tr>\n",
       "      <th>93</th>\n",
       "      <td>1</td>\n",
       "      <td>Please call our customer service representativ...</td>\n",
       "    </tr>\n",
       "    <tr>\n",
       "      <th>94</th>\n",
       "      <td>0</td>\n",
       "      <td>Havent planning to buy later. I check already ...</td>\n",
       "    </tr>\n",
       "    <tr>\n",
       "      <th>95</th>\n",
       "      <td>1</td>\n",
       "      <td>Your free ringtone is waiting to be collected....</td>\n",
       "    </tr>\n",
       "    <tr>\n",
       "      <th>96</th>\n",
       "      <td>0</td>\n",
       "      <td>Watching telugu movie..wat abt u?</td>\n",
       "    </tr>\n",
       "    <tr>\n",
       "      <th>97</th>\n",
       "      <td>0</td>\n",
       "      <td>i see. When we finish we have loads of loans t...</td>\n",
       "    </tr>\n",
       "    <tr>\n",
       "      <th>98</th>\n",
       "      <td>0</td>\n",
       "      <td>Hi. Wk been ok - on hols now! Yes on for a bit...</td>\n",
       "    </tr>\n",
       "    <tr>\n",
       "      <th>99</th>\n",
       "      <td>0</td>\n",
       "      <td>Please don't text me anymore. I have nothing e...</td>\n",
       "    </tr>\n",
       "  </tbody>\n",
       "</table>\n",
       "<p>100 rows × 2 columns</p>\n",
       "</div>"
      ],
      "text/plain": [
       "    Class                                            Message\n",
       "0       0  Go until jurong point, crazy.. Available only ...\n",
       "1       0                      Ok lar... Joking wif u oni...\n",
       "2       1  Free entry in 2 a wkly comp to win FA Cup fina...\n",
       "3       0  U dun say so early hor... U c already then say...\n",
       "4       0  Nah I don't think he goes to usf, he lives aro...\n",
       "5       1  FreeMsg Hey there darling it's been 3 week's n...\n",
       "6       0  Even my brother is not like to speak with me. ...\n",
       "7       0  As per your request 'Melle Melle (Oru Minnamin...\n",
       "8       1  WINNER!! As a valued network customer you have...\n",
       "9       1  Had your mobile 11 months or more? U R entitle...\n",
       "10      0  I'm gonna be home soon and i don't want to tal...\n",
       "11      1  SIX chances to win CASH! From 100 to 20,000 po...\n",
       "12      1  URGENT! You have won a 1 week FREE membership ...\n",
       "13      0  I've been searching for the right words to tha...\n",
       "14      0                I HAVE A DATE ON SUNDAY WITH WILL!!\n",
       "15      1  XXXMobileMovieClub: To use your credit, click ...\n",
       "16      0                         Oh k...i'm watching here:)\n",
       "17      0  Eh u remember how 2 spell his name... Yes i di...\n",
       "18      0  Fine if thatåÕs the way u feel. ThatåÕs the wa...\n",
       "19      1  England v Macedonia - dont miss the goals/team...\n",
       "20      0          Is that seriously how you spell his name?\n",
       "21      0  IÛ÷m going to try for 2 months ha ha only joking\n",
       "22      0  So Ì_ pay first lar... Then when is da stock c...\n",
       "23      0  Aft i finish my lunch then i go str down lor. ...\n",
       "24      0  Ffffffffff. Alright no way I can meet up with ...\n",
       "25      0  Just forced myself to eat a slice. I'm really ...\n",
       "26      0                     Lol your always so convincing.\n",
       "27      0  Did you catch the bus ? Are you frying an egg ...\n",
       "28      0  I'm back &amp; we're packing the car now, I'll...\n",
       "29      0  Ahhh. Work. I vaguely remember that! What does...\n",
       "..    ...                                                ...\n",
       "70      0     Wah lucky man... Then can save money... Hee...\n",
       "71      0                      Finished class where are you.\n",
       "72      0      HI BABE IM AT HOME NOW WANNA DO SOMETHING? XX\n",
       "73      0         K..k:)where are you?how did you performed?\n",
       "74      0                               U can call me now...\n",
       "75      0        I am waiting machan. Call me once you free.\n",
       "76      0  Thats cool. i am a gentleman and will treat yo...\n",
       "77      0  I like you peoples very much:) but am very shy...\n",
       "78      0         Does not operate after  &lt;#&gt;  or what\n",
       "79      0  Its not the same here. Still looking for a job...\n",
       "80      0                             Sorry, I'll call later\n",
       "81      0                   K. Did you call me just now ah? \n",
       "82      0                   Ok i am on the way to home hi hi\n",
       "83      0               You will be in the place of that man\n",
       "84      0                                     Yup next stop.\n",
       "85      0  I call you later, don't have network. If urgnt...\n",
       "86      0  For real when u getting on yo? I only need 2 m...\n",
       "87      0  Yes I started to send requests to make it but ...\n",
       "88      0         I'm really not up to it still tonight babe\n",
       "89      0          Ela kano.,il download, come wen ur free..\n",
       "90      0  Yeah do! DonÛ÷t stand to close tho- youÛ÷ll ...\n",
       "91      0  Sorry to be a pain. Is it ok if we meet anothe...\n",
       "92      0  Smile in Pleasure Smile in Pain Smile when tro...\n",
       "93      1  Please call our customer service representativ...\n",
       "94      0  Havent planning to buy later. I check already ...\n",
       "95      1  Your free ringtone is waiting to be collected....\n",
       "96      0                  Watching telugu movie..wat abt u?\n",
       "97      0  i see. When we finish we have loads of loans t...\n",
       "98      0  Hi. Wk been ok - on hols now! Yes on for a bit...\n",
       "99      0  Please don't text me anymore. I have nothing e...\n",
       "\n",
       "[100 rows x 2 columns]"
      ]
     },
     "execution_count": 2,
     "metadata": {},
     "output_type": "execute_result"
    }
   ],
   "source": [
    "# Use pandas to import data into dataframe\n",
    "df = pd.read_csv('spam_v_ham.csv', encoding='latin1')\n",
    "df.drop(['Unnamed: 2', 'Unnamed: 3', 'Unnamed: 4'], axis=1, inplace=True)\n",
    "df.columns = ['Class', 'Message']\n",
    "\n",
    "# replace ham with 0 and spam with 1\n",
    "df['Class'].replace(['ham','spam'],[0,1],inplace=True)\n",
    "df.head(100)"
   ]
  },
  {
   "cell_type": "code",
   "execution_count": 3,
   "metadata": {
    "collapsed": false
   },
   "outputs": [
    {
     "data": {
      "text/plain": [
       "4457"
      ]
     },
     "execution_count": 3,
     "metadata": {},
     "output_type": "execute_result"
    }
   ],
   "source": [
    "# create lists for features, X, and classes, Y\n",
    "X = df['Message'].tolist()\n",
    "X = [str(i) for i in X]\n",
    "#Y = df['Class'].tolist()\n",
    "Y = df['Class'].as_matrix()\n",
    "Y = [int(i) for i in Y]\n",
    "\n",
    "[Xtrain, Xtest, Ytrain, Ytest] = ms.train_test_split(X, Y, train_size=0.8)\n",
    "len(Xtrain)"
   ]
  },
  {
   "cell_type": "markdown",
   "metadata": {},
   "source": [
    "## Workflow"
   ]
  },
  {
   "cell_type": "code",
   "execution_count": 4,
   "metadata": {
    "collapsed": false
   },
   "outputs": [
    {
     "name": "stdout",
     "output_type": "stream",
     "text": [
      "(4457, 9493)\n",
      "(1115, 9493)\n"
     ]
    },
    {
     "data": {
      "text/plain": [
       "0.94798206278026909"
      ]
     },
     "execution_count": 4,
     "metadata": {},
     "output_type": "execute_result"
    }
   ],
   "source": [
    "# Tokenizing\n",
    "count_vec = txt.CountVectorizer(lowercase=False, ngram_range=(1,1))\n",
    "X_train_counts = count_vec.fit_transform(Xtrain)\n",
    "X_test_counts = count_vec.transform(Xtest)\n",
    "# print(X_train_counts.shape)\n",
    "\n",
    "# Term Frequency times Inverse Document Frequency\n",
    "tfidf_transformer = txt.TfidfTransformer()\n",
    "X_train_tfidf = tfidf_transformer.fit_transform(X_train_counts)\n",
    "X_test_tfidf = tfidf_transformer.transform(X_test_counts)\n",
    "print(X_train_tfidf.shape)\n",
    "print(X_test_tfidf.shape)\n",
    "\n",
    "# train Naive-Bayes Multinomial classifier\n",
    "example_clf = nb.MultinomialNB().fit(X_train_tfidf, Ytrain)\n",
    "example_clf.score(X_test_tfidf, Ytest)"
   ]
  },
  {
   "cell_type": "markdown",
   "metadata": {},
   "source": [
    "## Train classifiers\n",
    "[SGD Classifier](http://scikit-learn.org/stable/modules/generated/sklearn.linear_model.SGDClassifier.html#sklearn.linear_model.SGDClassifier)\n",
    "\n",
    "[Multinomial Naive Bayes Classifier](http://scikit-learn.org/stable/modules/generated/sklearn.naive_bayes.MultinomialNB.html#sklearn.naive_bayes.MultinomialNB)"
   ]
  },
  {
   "cell_type": "code",
   "execution_count": 5,
   "metadata": {
    "collapsed": true
   },
   "outputs": [],
   "source": [
    "# In order to make the vectorizer => transformer => classifier easier to work with,\n",
    "# scikit-learn provides a Pipeline class that behaves like a compound classifier:\n",
    "\n",
    "# Multinomial Naive Bayes\n",
    "MNB_clf = Pipeline([('vect', txt.CountVectorizer()),\n",
    "                    ('tfidf', txt.TfidfTransformer()),\n",
    "                    ('clf', nb.MultinomialNB()),\n",
    "                    ])\n",
    "# Stochastic Gradient Descent (SGD) (Support Vector Machine)\n",
    "SGD_clf = Pipeline([('vect', txt.CountVectorizer()),\n",
    "                    ('tfidf', txt.TfidfTransformer()),\n",
    "                    ('clf', SGDClassifier(loss='hinge', penalty='l2',\n",
    "                        n_iter=5, random_state=42)),\n",
    "                    ])\n"
   ]
  },
  {
   "cell_type": "code",
   "execution_count": 6,
   "metadata": {
    "collapsed": true
   },
   "outputs": [],
   "source": [
    "# Use grid search to find best parameters for SGD classifier\n",
    "SGD_params = {'vect__ngram_range': [(1, 1), (1, 2)],\n",
    "              'vect__lowercase': (True, False),\n",
    "              'tfidf__use_idf': (True, False),\n",
    "              'clf__alpha': (1e-2, 1e-3),\n",
    "}\n",
    "GS_clf = ms.GridSearchCV(SGD_clf, SGD_params, n_jobs=-1)"
   ]
  },
  {
   "cell_type": "code",
   "execution_count": 7,
   "metadata": {
    "collapsed": true
   },
   "outputs": [],
   "source": [
    "# Fit models to data\n",
    "SGD_GS_clf = GS_clf.fit(Xtrain, Ytrain)\n",
    "MNB_clf = MNB_clf.fit(Xtrain, Ytrain)"
   ]
  },
  {
   "cell_type": "markdown",
   "metadata": {},
   "source": [
    "## Results"
   ]
  },
  {
   "cell_type": "code",
   "execution_count": 8,
   "metadata": {
    "collapsed": false
   },
   "outputs": [
    {
     "name": "stdout",
     "output_type": "stream",
     "text": [
      "Best Training Score for SGD: 97.9%\n",
      "\n",
      "Best Parameters:\n",
      "clf__alpha: 0.001\n",
      "tfidf__use_idf: False\n",
      "vect__lowercase: True\n",
      "vect__ngram_range: (1, 2)\n",
      "Scores on test dataset:\n",
      "SGD: 96.8 %\n",
      "MNB: 94.4 %\n"
     ]
    }
   ],
   "source": [
    "print(\"Best Training Score for SGD: {:.1f}%\".format(SGD_GS_clf.best_score_*100))\n",
    "\n",
    "print(\"\\nBest Parameters:\")\n",
    "for param_name in sorted(SGD_params.keys()):\n",
    "    print(\"%s: %r\" % (param_name, GS_clf.best_params_[param_name]))\n",
    "\n",
    "print(\"Scores on test dataset:\")\n",
    "print(\"SGD: {:.1f} %\".format((SGD_GS_clf.score(Xtest, Ytest))*100))\n",
    "print(\"MNB: {:.1f} %\".format((MNB_clf.score(Xtest, Ytest))*100))\n"
   ]
  },
  {
   "cell_type": "code",
   "execution_count": 9,
   "metadata": {
    "collapsed": false
   },
   "outputs": [
    {
     "name": "stdout",
     "output_type": "stream",
     "text": [
      "[ 0.          0.00106045  1.        ]\n"
     ]
    },
    {
     "data": {
      "text/plain": [
       "<matplotlib.legend.Legend at 0x7f8b2ade1e10>"
      ]
     },
     "execution_count": 9,
     "metadata": {},
     "output_type": "execute_result"
    },
    {
     "data": {
      "image/png": "[encoded data removed]",
      "text/plain": [
       "<matplotlib.figure.Figure at 0x7f8b2adafeb8>"
      ]
     },
     "metadata": {},
     "output_type": "display_data"
    }
   ],
   "source": [
    "# predicted values\n",
    "Yscore = SGD_GS_clf.predict(Xtest)\n",
    "\n",
    "# false and true positive rates\n",
    "fpr, tpr, thr = skm.roc_curve(np.array(Ytest), Yscore)\n",
    "\n",
    "print(fpr)\n",
    "\n",
    "# area under ROC curve\n",
    "roc_auc = skm.auc(fpr, tpr)\n",
    "\n",
    "plt.figure(figsize=[10,6])\n",
    "plt.plot(fpr, tpr, color='darkorange',\n",
    "         label='ROC curve (area = %0.2f)' % roc_auc)\n",
    "plt.plot([0, 1], [0, 1], color='navy', linestyle='--')\n",
    "plt.grid(False)\n",
    "plt.xlabel('False Positive Rate')\n",
    "plt.ylabel('True Positive Rate')\n",
    "plt.title('Receiver Operating Characteristic Curve')\n",
    "plt.legend(loc=\"lower right\")\n"
   ]
  },
  {
   "cell_type": "code",
   "execution_count": 10,
   "metadata": {
    "collapsed": false
   },
   "outputs": [
    {
     "name": "stdout",
     "output_type": "stream",
     "text": [
      "Precision: \t[ 0.15426009  0.99275362  1.        ]\n",
      "Recall: \t[ 1.          0.79651163  0.        ]\n",
      "Thresholds: \t[0 1]\n",
      "0.883870967742\n"
     ]
    }
   ],
   "source": [
    "precision, recall, thresholds = skm.precision_recall_curve(Ytest, Yscore, pos_label=1)\n",
    "\n",
    "print(\"Precision: \\t{}\".format(precision))\n",
    "print(\"Recall: \\t{}\".format(recall))\n",
    "print(\"Thresholds: \\t{}\".format(thresholds))\n",
    "\n",
    "F = 2*(precision[1]*recall[1])/(precision[1]+recall[1])\n",
    "\n",
    "print(\"\".format(F))"
   ]
  },
  {
   "cell_type": "code",
   "execution_count": null,
   "metadata": {
    "collapsed": true
   },
   "outputs": [],
   "source": []
  }
 ],
 "metadata": {
  "kernelspec": {
   "display_name": "Python 3",
   "language": "python",
   "name": "python3"
  },
  "language_info": {
   "codemirror_mode": {
    "name": "ipython",
    "version": 3
   },
   "file_extension": ".py",
   "mimetype": "text/x-python",
   "name": "python",
   "nbconvert_exporter": "python",
   "pygments_lexer": "ipython3",
   "version": "3.6.0"
  }
 },
 "nbformat": 4,
 "nbformat_minor": 2
}
