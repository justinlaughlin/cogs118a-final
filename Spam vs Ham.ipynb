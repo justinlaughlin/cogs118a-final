{
 "cells": [
  {
   "cell_type": "markdown",
   "metadata": {},
   "source": [
    "## COGS118A - Final Project\n",
    "### by Justin Laughlin and Stuart Sonatina\n",
    "\n",
    "#### SMS dataset"
   ]
  },
  {
   "cell_type": "code",
   "execution_count": 15,
   "metadata": {
    "collapsed": true
   },
   "outputs": [],
   "source": [
    "# Import packages\n",
    "from datetime import datetime\n",
    "import numpy as np\n",
    "import matplotlib.pyplot as plt\n",
    "import scipy.io as sio\n",
    "import pandas as pd\n",
    "import seaborn as sns\n",
    "sns.set(style=\"whitegrid\", palette=\"muted\")\n",
    "\n",
    "# Splitting, training, and testing\n",
    "import sklearn.model_selection as ms\n",
    "\n",
    "# Text wrangling\n",
    "import sklearn.feature_extraction.text as txt\n",
    "from sklearn.pipeline import Pipeline\n",
    "from sklearn.linear_model import SGDClassifier\n",
    "import sklearn.naive_bayes as nb\n",
    "\n",
    "# Visualization\n",
    "import sklearn.metrics as skm\n",
    "\n",
    "# magic command to display plots inline\n",
    "%matplotlib inline"
   ]
  },
  {
   "cell_type": "markdown",
   "metadata": {},
   "source": [
    "Tutorial\n",
    "http://scikit-learn.org/stable/tutorial/text_analytics/working_with_text_data.html\n",
    "\n",
    "Dataset\n",
    "https://www.kaggle.com/uciml/sms-spam-collection-dataset"
   ]
  },
  {
   "cell_type": "code",
   "execution_count": 2,
   "metadata": {
    "collapsed": false
   },
   "outputs": [
    {
     "data": {
      "text/html": [
       "<div>\n",
       "<table border=\"1\" class=\"dataframe\">\n",
       "  <thead>\n",
       "    <tr style=\"text-align: right;\">\n",
       "      <th></th>\n",
       "      <th>Class</th>\n",
       "      <th>Message</th>\n",
       "    </tr>\n",
       "  </thead>\n",
       "  <tbody>\n",
       "    <tr>\n",
       "      <th>0</th>\n",
       "      <td>0</td>\n",
       "      <td>Go until jurong point, crazy.. Available only ...</td>\n",
       "    </tr>\n",
       "    <tr>\n",
       "      <th>1</th>\n",
       "      <td>0</td>\n",
       "      <td>Ok lar... Joking wif u oni...</td>\n",
       "    </tr>\n",
       "    <tr>\n",
       "      <th>2</th>\n",
       "      <td>1</td>\n",
       "      <td>Free entry in 2 a wkly comp to win FA Cup fina...</td>\n",
       "    </tr>\n",
       "    <tr>\n",
       "      <th>3</th>\n",
       "      <td>0</td>\n",
       "      <td>U dun say so early hor... U c already then say...</td>\n",
       "    </tr>\n",
       "    <tr>\n",
       "      <th>4</th>\n",
       "      <td>0</td>\n",
       "      <td>Nah I don't think he goes to usf, he lives aro...</td>\n",
       "    </tr>\n",
       "  </tbody>\n",
       "</table>\n",
       "</div>"
      ],
      "text/plain": [
       "   Class                                            Message\n",
       "0      0  Go until jurong point, crazy.. Available only ...\n",
       "1      0                      Ok lar... Joking wif u oni...\n",
       "2      1  Free entry in 2 a wkly comp to win FA Cup fina...\n",
       "3      0  U dun say so early hor... U c already then say...\n",
       "4      0  Nah I don't think he goes to usf, he lives aro..."
      ]
     },
     "execution_count": 2,
     "metadata": {},
     "output_type": "execute_result"
    }
   ],
   "source": [
    "# Use pandas to import data into dataframe\n",
    "df = pd.read_csv('spam_v_ham.csv', encoding='latin1')\n",
    "df.drop(['Unnamed: 2', 'Unnamed: 3', 'Unnamed: 4'], axis=1, inplace=True)\n",
    "df.columns = ['Class', 'Message']\n",
    "\n",
    "# replace ham with 0 and spam with 1\n",
    "df['Class'].replace(['ham','spam'],[0,1],inplace=True)\n",
    "df.head()"
   ]
  },
  {
   "cell_type": "code",
   "execution_count": 3,
   "metadata": {
    "collapsed": false
   },
   "outputs": [
    {
     "data": {
      "text/plain": [
       "4457"
      ]
     },
     "execution_count": 3,
     "metadata": {},
     "output_type": "execute_result"
    }
   ],
   "source": [
    "# create lists for features, X, and classes, Y\n",
    "X = df['Message'].tolist()\n",
    "X = [str(i) for i in X]\n",
    "#Y = df['Class'].tolist()\n",
    "Y = df['Class'].as_matrix()\n",
    "Y = [int(i) for i in Y]\n",
    "\n",
    "[Xtrain, Xtest, Ytrain, Ytest] = ms.train_test_split(X, Y, train_size=0.8)\n",
    "len(Xtrain)"
   ]
  },
  {
   "cell_type": "markdown",
   "metadata": {},
   "source": [
    "## Workflow"
   ]
  },
  {
   "cell_type": "code",
   "execution_count": 4,
   "metadata": {
    "collapsed": false
   },
   "outputs": [
    {
     "name": "stdout",
     "output_type": "stream",
     "text": [
      "(4457, 9577)\n",
      "(1115, 9577)\n"
     ]
    },
    {
     "data": {
      "text/plain": [
       "0.95426008968609866"
      ]
     },
     "execution_count": 4,
     "metadata": {},
     "output_type": "execute_result"
    }
   ],
   "source": [
    "# Tokenizing\n",
    "count_vec = txt.CountVectorizer(lowercase=False, ngram_range=(1,1))\n",
    "X_train_counts = count_vec.fit_transform(Xtrain)\n",
    "X_test_counts = count_vec.transform(Xtest)\n",
    "# print(X_train_counts.shape)\n",
    "\n",
    "# Term Frequency times Inverse Document Frequency\n",
    "tfidf_transformer = txt.TfidfTransformer()\n",
    "X_train_tfidf = tfidf_transformer.fit_transform(X_train_counts)\n",
    "X_test_tfidf = tfidf_transformer.transform(X_test_counts)\n",
    "print(X_train_tfidf.shape)\n",
    "print(X_test_tfidf.shape)\n",
    "\n",
    "# train Naive-Bayes Multinomial classifier\n",
    "example_clf = nb.MultinomialNB().fit(X_train_tfidf, Ytrain)\n",
    "example_clf.score(X_test_tfidf, Ytest)"
   ]
  },
  {
   "cell_type": "markdown",
   "metadata": {},
   "source": [
    "## Train classifiers\n",
    "[SGD Classifier](http://scikit-learn.org/stable/modules/generated/sklearn.linear_model.SGDClassifier.html#sklearn.linear_model.SGDClassifier)\n",
    "\n",
    "[Multinomial Naive Bayes Classifier](http://scikit-learn.org/stable/modules/generated/sklearn.naive_bayes.MultinomialNB.html#sklearn.naive_bayes.MultinomialNB)"
   ]
  },
  {
   "cell_type": "code",
   "execution_count": 5,
   "metadata": {
    "collapsed": true
   },
   "outputs": [],
   "source": [
    "# In order to make the vectorizer => transformer => classifier easier to work with,\n",
    "# scikit-learn provides a Pipeline class that behaves like a compound classifier:\n",
    "\n",
    "# Multinomial Naive Bayes\n",
    "MNB_clf = Pipeline([('vect', txt.CountVectorizer()),\n",
    "                    ('tfidf', txt.TfidfTransformer()),\n",
    "                    ('clf', nb.MultinomialNB()),\n",
    "                    ])\n",
    "# Stochastic Gradient Descent (SGD) (Support Vector Machine)\n",
    "SGD_clf = Pipeline([('vect', txt.CountVectorizer()),\n",
    "                    ('tfidf', txt.TfidfTransformer()),\n",
    "                    ('clf', SGDClassifier(loss='hinge', penalty='l2',\n",
    "                        n_iter=5, random_state=42)),\n",
    "                    ])\n"
   ]
  },
  {
   "cell_type": "code",
   "execution_count": 25,
   "metadata": {
    "collapsed": true
   },
   "outputs": [],
   "source": [
    "# Use grid search to find best parameters for SGD classifier\n",
    "SGD_params = {'vect__ngram_range': [(1, 1), (1, 2)],\n",
    "              'vect__lowercase': (True, False),\n",
    "              'tfidf__use_idf': (True, False),\n",
    "              'clf__alpha': (1e-2, 1e-3),\n",
    "}\n",
    "GS_clf = ms.GridSearchCV(SGD_clf, SGD_params, n_jobs=-1)"
   ]
  },
  {
   "cell_type": "code",
   "execution_count": 26,
   "metadata": {
    "collapsed": true
   },
   "outputs": [],
   "source": [
    "# Fit models to data\n",
    "SGD_GS_clf = GS_clf.fit(Xtrain, Ytrain)\n",
    "MNB_clf = MNB_clf.fit(Xtrain, Ytrain)"
   ]
  },
  {
   "cell_type": "markdown",
   "metadata": {},
   "source": [
    "## Results"
   ]
  },
  {
   "cell_type": "code",
   "execution_count": 27,
   "metadata": {
    "collapsed": false
   },
   "outputs": [
    {
     "name": "stdout",
     "output_type": "stream",
     "text": [
      "Best Training Score for SGD: 97.9%\n",
      "\n",
      "Best Parameters:\n",
      "clf__alpha: 0.001\n",
      "tfidf__use_idf: False\n",
      "vect__lowercase: True\n",
      "vect__ngram_range: (1, 2)\n",
      "Scores on test dataset:\n",
      "SGD: 97.4 %\n",
      "MNB: 95.5 %\n"
     ]
    }
   ],
   "source": [
    "print(\"Best Training Score for SGD: {:.1f}%\".format(SGD_GS_clf.best_score_*100))\n",
    "\n",
    "print(\"\\nBest Parameters:\")\n",
    "for param_name in sorted(SGD_params.keys()):\n",
    "    print(\"%s: %r\" % (param_name, GS_clf.best_params_[param_name]))\n",
    "\n",
    "print(\"Scores on test dataset:\")\n",
    "print(\"SGD: {:.1f} %\".format((SGD_GS_clf.score(Xtest, Ytest))*100))\n",
    "print(\"MNB: {:.1f} %\".format((MNB_clf.score(Xtest, Ytest))*100))\n"
   ]
  },
  {
   "cell_type": "code",
   "execution_count": null,
   "metadata": {
    "collapsed": true
   },
   "outputs": [],
   "source": []
  },
  {
   "cell_type": "code",
   "execution_count": 14,
   "metadata": {
    "collapsed": false
   },
   "outputs": [
    {
     "name": "stdout",
     "output_type": "stream",
     "text": [
      "[ 0.          0.00102987  1.        ]\n"
     ]
    },
    {
     "data": {
      "text/plain": [
       "<matplotlib.legend.Legend at 0x7f5edc3644e0>"
      ]
     },
     "execution_count": 14,
     "metadata": {},
     "output_type": "execute_result"
    },
    {
     "data": {
      "image/png": "[encoded data removed]",
      "text/plain": [
       "<matplotlib.figure.Figure at 0x7f5edde13a58>"
      ]
     },
     "metadata": {},
     "output_type": "display_data"
    }
   ],
   "source": [
    "# predicted values\n",
    "Yscore = SGD_GS_clf.predict(Xtest)\n",
    "\n",
    "# false and true positive rates\n",
    "fpr, tpr, thr = skm.roc_curve(np.array(Ytest), Yscore)\n",
    "\n",
    "print(fpr)\n",
    "\n",
    "# area under ROC curve\n",
    "roc_auc = skm.auc(fpr, tpr)\n",
    "\n",
    "plt.figure(figsize=[10,6])\n",
    "plt.plot(fpr, tpr, color='darkorange',\n",
    "         label='ROC curve (area = %0.2f)' % roc_auc)\n",
    "plt.plot([0, 1], [0, 1], color='navy', linestyle='--')\n",
    "plt.grid(False)\n",
    "plt.xlabel('False Positive Rate')\n",
    "plt.ylabel('True Positive Rate')\n",
    "plt.title('Receiver Operating Characteristic Curve')\n",
    "plt.legend(loc=\"lower right\")\n"
   ]
  },
  {
   "cell_type": "code",
   "execution_count": 28,
   "metadata": {
    "collapsed": false
   },
   "outputs": [
    {
     "name": "stdout",
     "output_type": "stream",
     "text": [
      "Precision: \t[ 0.12914798  0.99145299  1.        ]\n",
      "Recall: \t[ 1.          0.80555556  0.        ]\n",
      "Thresholds: \t[0 1]\n",
      "0.888888888889\n"
     ]
    }
   ],
   "source": [
    "precision, recall, thresholds = skm.precision_recall_curve(Ytest, Yscore, pos_label=1)\n",
    "\n",
    "print(\"Precision: \\t{}\".format(precision))\n",
    "print(\"Recall: \\t{}\".format(recall))\n",
    "print(\"Thresholds: \\t{}\".format(thresholds))\n",
    "\n",
    "F = 2*(precision[1]*recall[1])/(precision[1]+recall[1])\n",
    "print(F)"
   ]
  }
 ],
 "metadata": {
  "kernelspec": {
   "display_name": "Python 3",
   "language": "python",
   "name": "python3"
  },
  "language_info": {
   "codemirror_mode": {
    "name": "ipython",
    "version": 3
   },
   "file_extension": ".py",
   "mimetype": "text/x-python",
   "name": "python",
   "nbconvert_exporter": "python",
   "pygments_lexer": "ipython3",
   "version": "3.6.0"
  }
 },
 "nbformat": 4,
 "nbformat_minor": 2
}
